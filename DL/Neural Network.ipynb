{
 "cells": [
  {
   "cell_type": "code",
   "execution_count": 1,
   "metadata": {},
   "outputs": [
    {
     "name": "stdout",
     "output_type": "stream",
     "text": [
      "Using matplotlib backend: Qt5Agg\n"
     ]
    }
   ],
   "source": [
    "import numpy as np\n",
    "from sympy import *\n",
    "init_printing(use_unicode=True) # 輸出數學格式\n",
    "import matplotlib.pylab as plt\n",
    "%matplotlib"
   ]
  },
  {
   "cell_type": "code",
   "execution_count": 2,
   "metadata": {},
   "outputs": [],
   "source": [
    "M = MatrixSymbol('M', 3, 3)"
   ]
  },
  {
   "cell_type": "code",
   "execution_count": 3,
   "metadata": {},
   "outputs": [
    {
     "data": {
      "text/latex": [
       "$$\\left[\\begin{array}{ccc}M_{0, 0} & M_{0, 1} & M_{0, 2}\\\\M_{1, 0} & M_{1, 1} & M_{1, 2}\\\\M_{2, 0} & M_{2, 1} & M_{2, 2}\\end{array}\\right]$$"
      ],
      "text/plain": [
       "⎡M₀₀  M₀₁  M₀₂⎤\n",
       "⎢             ⎥\n",
       "⎢M₁₀  M₁₁  M₁₂⎥\n",
       "⎢             ⎥\n",
       "⎣M₂₀  M₂₁  M₂₂⎦"
      ]
     },
     "execution_count": 3,
     "metadata": {},
     "output_type": "execute_result"
    }
   ],
   "source": [
    "Matrix(M)"
   ]
  },
  {
   "cell_type": "code",
   "execution_count": 4,
   "metadata": {},
   "outputs": [],
   "source": [
    "x1, x2 = symbols('x1, x2')\n",
    "w111, w112, w121, w122 = symbols('w111, w121, w112, w122')\n",
    "w211, w212, w221, w222 = symbols('w211, w221, w212, w222')\n",
    "b11, b12, b21, b22 = symbols('b11, b12, b21, b22')\n",
    "X = Matrix([x1, x2]).T\n",
    "W1 = Matrix([[w111, w121], [w112, w122]])\n",
    "W2 = Matrix([[w211, w221], [w212, w222]])\n",
    "B1 = Matrix([b11, b12]).T\n",
    "B2 = Matrix([b21, b22]).T"
   ]
  },
  {
   "cell_type": "code",
   "execution_count": 5,
   "metadata": {},
   "outputs": [
    {
     "data": {
      "text/latex": [
       "$$\\left[\\begin{matrix}b_{11} + w_{111} x_{1} + w_{121} x_{2} & b_{12} + w_{112} x_{1} + w_{122} x_{2}\\end{matrix}\\right]$$"
      ],
      "text/plain": [
       "[b₁₁ + w₁₁₁⋅x₁ + w₁₂₁⋅x₂  b₁₂ + w₁₁₂⋅x₁ + w₁₂₂⋅x₂]"
      ]
     },
     "execution_count": 5,
     "metadata": {},
     "output_type": "execute_result"
    }
   ],
   "source": [
    "X * W1 + B1"
   ]
  },
  {
   "cell_type": "code",
   "execution_count": 6,
   "metadata": {},
   "outputs": [
    {
     "data": {
      "text/latex": [
       "$$\\left[\\begin{matrix}b_{21} + w_{211} \\left(b_{11} + w_{111} x_{1} + w_{121} x_{2}\\right) + w_{221} \\left(b_{12} + w_{112} x_{1} + w_{122} x_{2}\\right) & b_{22} + w_{212} \\left(b_{11} + w_{111} x_{1} + w_{121} x_{2}\\right) + w_{222} \\left(b_{12} + w_{112} x_{1} + w_{122} x_{2}\\right)\\end{matrix}\\right]$$"
      ],
      "text/plain": [
       "[b₂₁ + w₂₁₁⋅(b₁₁ + w₁₁₁⋅x₁ + w₁₂₁⋅x₂) + w₂₂₁⋅(b₁₂ + w₁₁₂⋅x₁ + w₁₂₂⋅x₂)  b₂₂ + \n",
       "w₂₁₂⋅(b₁₁ + w₁₁₁⋅x₁ + w₁₂₁⋅x₂) + w₂₂₂⋅(b₁₂ + w₁₁₂⋅x₁ + w₁₂₂⋅x₂)]"
      ]
     },
     "execution_count": 6,
     "metadata": {},
     "output_type": "execute_result"
    }
   ],
   "source": [
    "(((X * W1) + B1) * W2) + B2"
   ]
  }
 ],
 "metadata": {
  "kernelspec": {
   "display_name": "Python 3",
   "language": "python",
   "name": "python3"
  },
  "language_info": {
   "codemirror_mode": {
    "name": "ipython",
    "version": 3
   },
   "file_extension": ".py",
   "mimetype": "text/x-python",
   "name": "python",
   "nbconvert_exporter": "python",
   "pygments_lexer": "ipython3",
   "version": "3.6.6"
  }
 },
 "nbformat": 4,
 "nbformat_minor": 2
}
