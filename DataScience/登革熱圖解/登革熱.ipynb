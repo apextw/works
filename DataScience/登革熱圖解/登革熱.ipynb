{
 "cells": [
  {
   "cell_type": "code",
   "execution_count": 1,
   "metadata": {},
   "outputs": [],
   "source": [
    "import numpy as np\n",
    "import pandas as pd\n",
    "import matplotlib as mpl\n",
    "import matplotlib.pyplot as plt\n",
    "import sklearn"
   ]
  },
  {
   "cell_type": "code",
   "execution_count": 2,
   "metadata": {},
   "outputs": [
    {
     "name": "stderr",
     "output_type": "stream",
     "text": [
      "/home/sppool/anaconda3/lib/python3.7/site-packages/IPython/core/interactiveshell.py:3049: DtypeWarning: Columns (22,23) have mixed types. Specify dtype option on import or set low_memory=False.\n",
      "  interactivity=interactivity, compiler=compiler, result=result)\n"
     ]
    }
   ],
   "source": [
    "# ar = np.arange(100).reshape(10,10)\n",
    "# df = pd.DataFrame(ar, index=list('ABCDEFGHIJ'), columns=list('1234567890'))\n",
    "\n",
    "den = pd.read_csv('Dengue_20y.csv')\n",
    "lst = ['year', 'month', 'day']\n",
    "for n in range(3):\n",
    "    den[lst[n]] = den['發病日'].str.split('/').str[n]\n",
    "    den[lst[n]] = den[lst[n]].astype(int)\n",
    "    den['call_' + lst[n]] = den['通報日'].str.split('/').str[n]\n",
    "    den['call_' + lst[n]] = den['call_' + lst[n]].astype(int)\n",
    "del lst\n",
    "den['發病日'] = pd.to_datetime(10000 * den.year + 100 * den.month + den.day,\n",
    "   format='%Y%m%d')\n",
    "den['通報日'] = pd.to_datetime(10000 * den.call_year + 100 * den.call_month + den.call_day,\n",
    "   format='%Y%m%d')\n",
    "den['是否境外移入'] = (den['是否境外移入'] == '是').astype(int)\n",
    "d2 = den[['year', 'month', 'day', '發病日', '通報日', 'call_day','性別'\n",
    "          , '年齡層', '居住縣市', '是否境外移入', '確定病例數']]\n",
    "d2 = d2[d2['年齡層'].str.len() > 1]\n",
    "d2 = d2[d2['性別'] != 'None']\n",
    "d2 = d2[d2['確定病例數'] == 1]"
   ]
  },
  {
   "cell_type": "code",
   "execution_count": null,
   "metadata": {},
   "outputs": [],
   "source": [
    "=============================================================================\n",
    "d2.pivot_table('確定病例數', index='year', columns='性別', aggfunc='count', margins=True, fill_value=0)\n",
    "\n",
    "\n",
    "births = pd.read_csv('data/births.csv')\n",
    "\n",
    "quartiles = np.percentile(births['births'], [25, 50, 75])\n",
    "mu = quartiles[1]\n",
    "sig = 0.74 * (quartiles[2] - quartiles[0])\n",
    "\n",
    "births = births.query('(births > @mu - 5 * @sig) & (births < @mu + 5 * @sig)')\n",
    "\n",
    "births['day'] = births['day'].astype(int)\n",
    "\n",
    "births.index = pd.to_datetime(10000 * births.year +\n",
    "                              100 * births.month +\n",
    "                              births.day, format='%Y%m%d')\n",
    "\n",
    "births['dayofweek'] = births.index.dayofweek\n",
    "\n",
    "births_by_date = births.pivot_table('births',\n",
    "                                    [births.index.month, births.index.day])\n",
    "============================================================================="
   ]
  }
 ],
 "metadata": {
  "kernelspec": {
   "display_name": "Python 3",
   "language": "python",
   "name": "python3"
  },
  "language_info": {
   "codemirror_mode": {
    "name": "ipython",
    "version": 3
   },
   "file_extension": ".py",
   "mimetype": "text/x-python",
   "name": "python",
   "nbconvert_exporter": "python",
   "pygments_lexer": "ipython3",
   "version": "3.7.3"
  }
 },
 "nbformat": 4,
 "nbformat_minor": 2
}
