{
 "cells": [
  {
   "cell_type": "markdown",
   "metadata": {},
   "source": [
    "__status  狀態值解釋__\n",
    "* 0       : 健康的人\n",
    "* 1~50    : 受感染但'沒有'傳染力 (正常更新時+1)\n",
    "* 51~500  : 受感染且有傳染力 (正常更新時+1)\n",
    "* 501~600 : 死亡or隔離(無傳染力), 單純是畫面顯示需要 (正常更新時+1)\n",
    "* 601     : 不再更新狀態\n",
    "\n",
    "__r__ (float) (約0.001~0.002) 接觸距離(半徑)\n",
    "\n",
    "__n__ (int) 點位數量 (1000) 太少可以增加 r 提高接觸機會\n"
   ]
  },
  {
   "cell_type": "code",
   "execution_count": 1,
   "metadata": {},
   "outputs": [],
   "source": [
    "import numpy as np\n",
    "import matplotlib\n",
    "import matplotlib.pyplot as plt\n",
    "import time\n",
    "from matplotlib.animation import FuncAnimation\n",
    "from sklearn.metrics.pairwise import manhattan_distances  # 曼哈頓距離可以省大量計算"
   ]
  },
  {
   "cell_type": "code",
   "execution_count": 2,
   "metadata": {},
   "outputs": [],
   "source": [
    "n = 999\n",
    "n2 = n\n",
    "r = 1\n",
    "r_ = 0.0015 # 距離設定 微調影響很顯著 約0.001~0.002\n",
    "p = (r_**2 * np.pi * r) # 初始感染率\n",
    "\n",
    "status = np.zeros(n+1).astype(np.int)\n",
    "status[0] = 51\n",
    "ind = 1 # 追加新病人的index\n",
    "n_arr = [n] # 初始狀態init\n",
    "r_arr = [r] # 初始狀態init\n",
    "\n",
    "for i in range(10000):\n",
    "    r_n = np.random.binomial(n, p) # 二項分布 直接求可能的數字\n",
    "    # r_n = np.random.choice(2, n, p=[1 - p, p]).sum() # 等於上面\n",
    "    if r_n:\n",
    "        status[ind:ind+r_n] = 1\n",
    "        ind += r_n\n",
    "    status[np.bitwise_and(status > 0, status <= 500)] += 1\n",
    "    r = len(status[np.bitwise_and(status > 50, status <= 500)]) # 超過51才有傳染力\n",
    "    p = (r_**2 * np.pi * r) # 這裡忽略病人同時可能佔據的空間機率\n",
    "    n -= r_n\n",
    "    n_arr.append(n)\n",
    "    r_arr.append(r)\n",
    "#     print(f'n:{n}, r:{r}, bk:{n2+1-n-r}, r_n:{r_n}')\n",
    "    if r == 0 or n == 0:\n",
    "        break"
   ]
  },
  {
   "cell_type": "code",
   "execution_count": 3,
   "metadata": {},
   "outputs": [
    {
     "data": {
      "text/plain": [
       "(0, 1000)"
      ]
     },
     "execution_count": 3,
     "metadata": {},
     "output_type": "execute_result"
    },
    {
     "data": {
      "image/png": "[encoded data removed]",
      "text/plain": [
       "<Figure size 576x360 with 1 Axes>"
      ]
     },
     "metadata": {
      "needs_background": "light"
     },
     "output_type": "display_data"
    }
   ],
   "source": [
    "nrr = np.array(n_arr).astype(np.int)\n",
    "rrr = np.array(r_arr).astype(np.int)\n",
    "bkrr = n2 - nrr - rrr\n",
    "step = i + 2\n",
    "x = np.arange(step)\n",
    "\n",
    "plt.figure(figsize=(8, 5))\n",
    "plt.stackplot(x, rrr, nrr, bkrr, colors=['r', 'g', 'gray'])\n",
    "plt.xlim([0, step])\n",
    "plt.ylim([0, 1000])"
   ]
  },
  {
   "cell_type": "code",
   "execution_count": null,
   "metadata": {},
   "outputs": [],
   "source": []
  }
 ],
 "metadata": {
  "kernelspec": {
   "display_name": "Python 3",
   "language": "python",
   "name": "python3"
  },
  "language_info": {
   "codemirror_mode": {
    "name": "ipython",
    "version": 3
   },
   "file_extension": ".py",
   "mimetype": "text/x-python",
   "name": "python",
   "nbconvert_exporter": "python",
   "pygments_lexer": "ipython3",
   "version": "3.7.6"
  }
 },
 "nbformat": 4,
 "nbformat_minor": 4
}
